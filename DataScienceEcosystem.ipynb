{
 "cells": [
  {
   "cell_type": "markdown",
   "id": "8d0d1132",
   "metadata": {},
   "source": [
    "# Data Science Tools and Ecosystem"
   ]
  },
  {
   "cell_type": "markdown",
   "id": "06315277",
   "metadata": {},
   "source": [
    "In this notebook, Data Science Tools and Ecosystem are summarized."
   ]
  },
  {
   "cell_type": "markdown",
   "id": "23b538ca",
   "metadata": {},
   "source": [
    "**Objectives:**\n",
    "* List popular languages for Data Science\n",
    "* List of libraries for data scientists \n",
    "* How to use Data asset eXchange\n",
    "* Overview of different ML models\n",
    "* How to use Github for code asset management"
   ]
  },
  {
   "cell_type": "markdown",
   "id": "cc91d89d",
   "metadata": {},
   "source": [
    "Some of the popular languages that Data Scientists use are:\n",
    "1. Python\n",
    "2. Julia\n",
    "3. R\n",
    "4. C++"
   ]
  },
  {
   "cell_type": "markdown",
   "id": "e6148476",
   "metadata": {},
   "source": [
    "Some of the commonly used libraries used by Data Scientists include:\n",
    "1. Pandas\n",
    "2. Matplotlib\n",
    "3. TensorFlow\n",
    "4. NLTK"
   ]
  },
  {
   "cell_type": "markdown",
   "id": "1b78aaa0",
   "metadata": {},
   "source": [
    "|Data Science Tools|\n",
    "| --- |\n",
    "|Jupyter|\n",
    "| Apache Zeppelin |\n",
    "| RStudio |"
   ]
  },
  {
   "cell_type": "markdown",
   "id": "443f5611",
   "metadata": {},
   "source": [
    "### Below are a few examples of evaluating arithmetic expressions in Python"
   ]
  },
  {
   "cell_type": "code",
   "execution_count": 8,
   "id": "06a3312a",
   "metadata": {},
   "outputs": [
    {
     "data": {
      "text/plain": [
       "17"
      ]
     },
     "execution_count": 8,
     "metadata": {},
     "output_type": "execute_result"
    }
   ],
   "source": [
    "\"This a simple arithmetic expression to mutiply then add integers\"\n",
    "(3*4)+5"
   ]
  },
  {
   "cell_type": "code",
   "execution_count": 14,
   "id": "89759dc5",
   "metadata": {},
   "outputs": [
    {
     "data": {
      "text/plain": [
       "3.3333333333333335"
      ]
     },
     "execution_count": 14,
     "metadata": {},
     "output_type": "execute_result"
    }
   ],
   "source": [
    "\"This will convert 200 minutes to hours by diving by 60\"\n",
    "m = 200\n",
    "u = 60\n",
    "m / u\n"
   ]
  },
  {
   "cell_type": "markdown",
   "id": "f41e265e",
   "metadata": {},
   "source": [
    "## Author\n",
    "Antoine"
   ]
  },
  {
   "cell_type": "code",
   "execution_count": null,
   "id": "e83c7b6d",
   "metadata": {},
   "outputs": [],
   "source": []
  }
 ],
 "metadata": {
  "kernelspec": {
   "display_name": "Python 3 (ipykernel)",
   "language": "python",
   "name": "python3"
  },
  "language_info": {
   "codemirror_mode": {
    "name": "ipython",
    "version": 3
   },
   "file_extension": ".py",
   "mimetype": "text/x-python",
   "name": "python",
   "nbconvert_exporter": "python",
   "pygments_lexer": "ipython3",
   "version": "3.9.13"
  }
 },
 "nbformat": 4,
 "nbformat_minor": 5
}
